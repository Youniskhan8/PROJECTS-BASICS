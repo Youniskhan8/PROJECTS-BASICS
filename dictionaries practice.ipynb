{
 "cells": [
  {
   "cell_type": "code",
   "execution_count": null,
   "metadata": {},
   "outputs": [],
   "source": [
    "# A dictionary is an unordered, mutable collection of key-value pairs\n",
    "# . It allows fast lookups, modifications, and deletions using keys."
   ]
  },
  {
   "cell_type": "code",
   "execution_count": 1,
   "metadata": {},
   "outputs": [
    {
     "name": "stdout",
     "output_type": "stream",
     "text": [
      "{'name': 'MOhammad Younis khan', 'age': 23, 'major': 'Computer Science'}\n",
      "{'name': 'Anjum', 'age': 31, 'city': 'Srinagar'}\n"
     ]
    }
   ],
   "source": [
    "# Creating dictionaries\n",
    "# Dictionaries are defined using curly braces {} with key-value pairs or the dict() function.\n",
    "# Empty dictionary\n",
    "empty_dict = {}\n",
    "\n",
    "# Dictionary with values\n",
    "student = {\n",
    "    \"name\": \"MOhammad Younis khan\",\n",
    "    \"age\": 23,\n",
    "    \"major\": \"Computer Science\"\n",
    "}\n",
    "\n",
    "# Using dict() function\n",
    "person = dict(name=\"Anjum\", age=31, city=\"Srinagar\")\n",
    "\n",
    "print(student)\n",
    "print(person)\n"
   ]
  },
  {
   "cell_type": "code",
   "execution_count": 2,
   "metadata": {},
   "outputs": [
    {
     "ename": "TypeError",
     "evalue": "unhashable type: 'list'",
     "output_type": "error",
     "traceback": [
      "\u001b[1;31m---------------------------------------------------------------------------\u001b[0m",
      "\u001b[1;31mTypeError\u001b[0m                                 Traceback (most recent call last)",
      "Cell \u001b[1;32mIn[2], line 4\u001b[0m\n\u001b[0;32m      1\u001b[0m \u001b[38;5;66;03m#  Keys must be unique and immutable (strings, numbers, or tuples).\u001b[39;00m\n\u001b[0;32m      2\u001b[0m \u001b[38;5;66;03m#  Lists and other dictionaries cannot be keys\u001b[39;00m\n\u001b[0;32m      3\u001b[0m valid_dict \u001b[38;5;241m=\u001b[39m {\u001b[38;5;241m1\u001b[39m: \u001b[38;5;124m\"\u001b[39m\u001b[38;5;124mone\u001b[39m\u001b[38;5;124m\"\u001b[39m, \u001b[38;5;124m\"\u001b[39m\u001b[38;5;124mname\u001b[39m\u001b[38;5;124m\"\u001b[39m: \u001b[38;5;124m\"\u001b[39m\u001b[38;5;124mAlice\u001b[39m\u001b[38;5;124m\"\u001b[39m, (\u001b[38;5;241m2\u001b[39m, \u001b[38;5;241m3\u001b[39m): \u001b[38;5;124m\"\u001b[39m\u001b[38;5;124mtuple key\u001b[39m\u001b[38;5;124m\"\u001b[39m}  \u001b[38;5;66;03m#  Works\u001b[39;00m\n\u001b[1;32m----> 4\u001b[0m invalid_dict \u001b[38;5;241m=\u001b[39m {[\u001b[38;5;124m\"\u001b[39m\u001b[38;5;124mlist\u001b[39m\u001b[38;5;124m\"\u001b[39m]: \u001b[38;5;124m\"\u001b[39m\u001b[38;5;124mvalue\u001b[39m\u001b[38;5;124m\"\u001b[39m}  \u001b[38;5;66;03m#  TypeError: unhashable type: 'list'\u001b[39;00m\n",
      "\u001b[1;31mTypeError\u001b[0m: unhashable type: 'list'"
     ]
    }
   ],
   "source": [
    "#  Keys must be unique and immutable (strings, numbers, or tuples).\n",
    "#  Lists and other dictionaries cannot be keys\n",
    "valid_dict = {1: \"one\", \"name\": \"Alice\", (2, 3): \"tuple key\"}  #  Works\n",
    "invalid_dict = {[\"list\"]: \"value\"}  #  TypeError: unhashable type: 'list'\n"
   ]
  },
  {
   "cell_type": "code",
   "execution_count": 27,
   "metadata": {},
   "outputs": [
    {
     "name": "stdout",
     "output_type": "stream",
     "text": [
      "younis\n",
      "23\n"
     ]
    }
   ],
   "source": [
    "# Accessing Dictionary Elements\n",
    "# Using Keys\n",
    "student = {\"name\": \"younis\", \"age\": 23, \"major\": \"CS\"}\n",
    "\n",
    "print(student[\"name\"])  # Younis\n",
    "print(student[\"age\"])   # 23\n"
   ]
  },
  {
   "cell_type": "code",
   "execution_count": 28,
   "metadata": {},
   "outputs": [
    {
     "name": "stdout",
     "output_type": "stream",
     "text": [
      "younis\n",
      "Not Found\n"
     ]
    }
   ],
   "source": [
    "# Using get() (Prevents Errors)\n",
    "print(student.get(\"name\"))  # younis\n",
    "print(student.get(\"city\", \"Not Found\"))  # Default value: Not Found\n"
   ]
  },
  {
   "cell_type": "code",
   "execution_count": 29,
   "metadata": {},
   "outputs": [
    {
     "name": "stdout",
     "output_type": "stream",
     "text": [
      "{'name': 'younis', 'age': 22, 'major': 'CS', 'city': 'Srinagar'}\n"
     ]
    }
   ],
   "source": [
    "# Modifying Dictionaries\n",
    "# Adding & Updating Key-Value Pairs\n",
    "student[\"age\"] = 22  # Update value\n",
    "student[\"city\"] = \"Srinagar\"  # Add new key-value pair\n",
    "print(student)\n"
   ]
  },
  {
   "cell_type": "code",
   "execution_count": 30,
   "metadata": {},
   "outputs": [
    {
     "name": "stdout",
     "output_type": "stream",
     "text": [
      "{'name': 'younis', 'city': 'Srinagar'}\n"
     ]
    }
   ],
   "source": [
    "# Removing Elements\n",
    "student.pop(\"age\")  # Removes \"age\" key\n",
    "del student[\"major\"]  # Deletes \"major\" key\n",
    "print(student)\n",
    "\n",
    "student.clear()  # Removes all elements\n"
   ]
  },
  {
   "cell_type": "code",
   "execution_count": 32,
   "metadata": {},
   "outputs": [
    {
     "name": "stdout",
     "output_type": "stream",
     "text": [
      "{'name': 'younis'}\n",
      "{}\n"
     ]
    }
   ],
   "source": [
    "student = {\"name\": \"younis\", \"age\": 20, \"major\": \"CS\"}\n",
    "\n",
    "# Safely remove keys\n",
    "student.pop(\"age\", None)  # Avoids error if \"age\" doesn't exist\n",
    "if \"major\" in student:\n",
    "    del student[\"major\"]\n",
    "\n",
    "print(student)  # Output: {'name': 'younis'}\n",
    "\n",
    "student.clear()  # Removes all elements\n",
    "print(student)  # Output: {}\n"
   ]
  },
  {
   "cell_type": "code",
   "execution_count": 33,
   "metadata": {},
   "outputs": [
    {
     "name": "stdout",
     "output_type": "stream",
     "text": [
      "20\n",
      "{'name': 'Alice', 'major': 'CS'}\n"
     ]
    }
   ],
   "source": [
    "# pop() – Removes and Returns the Value\n",
    "student = {\"name\": \"Alice\", \"age\": 20, \"major\": \"CS\"}\n",
    "\n",
    "age = student.pop(\"age\")  # Removes \"age\" and returns its value\n",
    "print(age)        # Output: 20\n",
    "print(student)    # Output: {'name': 'Alice', 'major': 'CS'}\n"
   ]
  },
  {
   "cell_type": "code",
   "execution_count": 34,
   "metadata": {},
   "outputs": [
    {
     "name": "stdout",
     "output_type": "stream",
     "text": [
      "{'name': 'younis', 'age': 20}\n"
     ]
    }
   ],
   "source": [
    "# del – Deletes the Key Without Returning\n",
    "student = {\"name\": \"younis\", \"age\": 20, \"major\": \"CS\"}\n",
    "\n",
    "del student[\"major\"]  # Deletes \"major\"\n",
    "print(student)  # Output: {'name': 'younis', 'age': 20}\n"
   ]
  },
  {
   "cell_type": "code",
   "execution_count": 36,
   "metadata": {},
   "outputs": [],
   "source": [
    "student = {\"name\": \"younis\", \"age\": 20, \"major\": \"CS\"}"
   ]
  },
  {
   "cell_type": "code",
   "execution_count": 37,
   "metadata": {},
   "outputs": [
    {
     "name": "stdout",
     "output_type": "stream",
     "text": [
      "name\n",
      "age\n",
      "major\n"
     ]
    }
   ],
   "source": [
    "for key in student:\n",
    "    print(key)  # Prints keys\n"
   ]
  },
  {
   "cell_type": "code",
   "execution_count": 38,
   "metadata": {},
   "outputs": [
    {
     "name": "stdout",
     "output_type": "stream",
     "text": [
      "younis\n",
      "20\n",
      "CS\n"
     ]
    }
   ],
   "source": [
    "for value in student.values():\n",
    "    print(value)  # Prints values\n"
   ]
  },
  {
   "cell_type": "code",
   "execution_count": null,
   "metadata": {},
   "outputs": [
    {
     "name": "stdout",
     "output_type": "stream",
     "text": [
      "dict_items([('name', 'younis'), ('age', 20), ('major', 'CS')])\n"
     ]
    }
   ],
   "source": [
    "print(student.items())\n",
    "# Output: dict_items([('name', 'younis'), ('age', 20), ('major', 'CS')])\n"
   ]
  },
  {
   "cell_type": "code",
   "execution_count": null,
   "metadata": {},
   "outputs": [],
   "source": [
    "# for key, value in student.items():\n",
    "\n",
    "# This unpacks each tuple into two variables:\n",
    "\n",
    "# key → Stores the dictionary key (\"name\", \"age\", \"major\")\n",
    "\n",
    "# value → Stores the corresponding value (\"younis\", 20, \"CS\")\n",
    "\n",
    "# Each iteration processes one key-value pair."
   ]
  },
  {
   "cell_type": "code",
   "execution_count": 39,
   "metadata": {},
   "outputs": [
    {
     "name": "stdout",
     "output_type": "stream",
     "text": [
      "name : younis\n",
      "age : 20\n",
      "major : CS\n"
     ]
    }
   ],
   "source": [
    "for key, value in student.items():\n",
    "    print(key, \":\", value)  # Prints key and value\n"
   ]
  },
  {
   "cell_type": "code",
   "execution_count": 42,
   "metadata": {},
   "outputs": [
    {
     "name": "stdout",
     "output_type": "stream",
     "text": [
      "dict_keys(['name', 'age', 'major'])\n",
      "dict_values(['younis', 21, 'CS'])\n",
      "dict_items([('name', 'younis'), ('age', 21), ('major', 'CS')])\n",
      "{'name': 'younis', 'age': 22, 'major': 'CS', 'city': 'srinagar'}\n"
     ]
    }
   ],
   "source": [
    "student = {\"name\": \"younis\", \"age\": 21, \"major\": \"CS\"}\n",
    "\n",
    "print(student.keys())  # dict_keys(['name', 'age', 'major'])\n",
    "print(student.values())  # dict_values(['Alice', 21, 'CS'])\n",
    "print(student.items())  # dict_items([('name', 'Alice'), ('age', 21), ('major', 'CS')])\n",
    "\n",
    "student.update({\"city\": \"srinagar\", \"age\": 22})  # Update multiple values\n",
    "print(student)\n"
   ]
  },
  {
   "cell_type": "code",
   "execution_count": 43,
   "metadata": {},
   "outputs": [
    {
     "name": "stdout",
     "output_type": "stream",
     "text": [
      "{1: 1, 2: 4, 3: 9, 4: 16, 5: 25}\n"
     ]
    }
   ],
   "source": [
    "# Dictionary compression\n",
    "squared_numbers = {x: x**2 for x in range(1, 6)}\n",
    "print(squared_numbers)  # {1: 1, 2: 4, 3: 9, 4: 16, 5: 25}\n"
   ]
  },
  {
   "cell_type": "code",
   "execution_count": 45,
   "metadata": {},
   "outputs": [
    {
     "name": "stdout",
     "output_type": "stream",
     "text": [
      "CS\n"
     ]
    }
   ],
   "source": [
    "students = {\n",
    "    \"younis\": {\"age\": 21, \"major\": \"CS\"},\n",
    "    \"maroof\": {\"age\": 22, \"major\": \"Math\"}\n",
    "}\n",
    "\n",
    "print(students[\"younis\"][\"major\"])  # CS\n"
   ]
  }
 ],
 "metadata": {
  "kernelspec": {
   "display_name": "Python 3",
   "language": "python",
   "name": "python3"
  },
  "language_info": {
   "codemirror_mode": {
    "name": "ipython",
    "version": 3
   },
   "file_extension": ".py",
   "mimetype": "text/x-python",
   "name": "python",
   "nbconvert_exporter": "python",
   "pygments_lexer": "ipython3",
   "version": "3.10.1"
  }
 },
 "nbformat": 4,
 "nbformat_minor": 2
}
