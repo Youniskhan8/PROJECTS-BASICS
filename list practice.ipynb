{
 "cells": [
  {
   "cell_type": "code",
   "execution_count": 1,
   "metadata": {},
   "outputs": [
    {
     "name": "stdout",
     "output_type": "stream",
     "text": [
      "['h', 'e', 'l', 'l', 'o']\n"
     ]
    }
   ],
   "source": [
    " # A list is an ordered, mutable collection that allows duplicate elements\n",
    " \n",
    " # # Empty list\n",
    "my_list = []\n",
    "   \n",
    "# List with elements\n",
    "numbers = [1, 2, 3, 4, 5]                          \n",
    "fruits = [\"apple\", \"banana\", \"cherry\"]\n",
    "\n",
    "# Using list() function\n",
    "chars = list(\"hello\")  # ['h', 'e', 'l', 'l', 'o']\n",
    "print(chars)"
   ]
  },
  {
   "cell_type": "code",
   "execution_count": null,
   "metadata": {},
   "outputs": [
    {
     "name": "stdout",
     "output_type": "stream",
     "text": [
      "10\n",
      "30\n",
      "50\n"
     ]
    }
   ],
   "source": [
    "# accessing  the value\n",
    "numbers = [10, 20, 30, 40, 50]\n",
    "           0    1   2   3  4\n",
    "print(numbers[0])  # 10\n",
    "print(numbers[2])  # 30\n",
    "print(numbers[-1]) # 50 (last element)\n"
   ]
  },
  {
   "cell_type": "code",
   "execution_count": null,
   "metadata": {},
   "outputs": [
    {
     "name": "stdout",
     "output_type": "stream",
     "text": [
      "[20, 30, 40]\n",
      "[10, 20, 30]\n",
      "[30, 40, 50]\n",
      "[30, 40, 50]\n",
      "[10, 40]\n"
     ]
    }
   ],
   "source": [
    "numbers = [10, 20, 30, 40, 50]\n",
    "\n",
    "# last is not included\n",
    "print(numbers[1:4])   # [20, 30, 40]\n",
    "print(numbers[:3])    # [10, 20, 30]\n",
    "print(numbers[2:])    # [30, 40, 50]\n",
    "print(numbers[-3:])   # [30, 40, 50]\n",
    "print(numbers[::2])   # [10, 30, 50] (every second element)\n"
   ]
  },
  {
   "cell_type": "code",
   "execution_count": null,
   "metadata": {},
   "outputs": [
    {
     "name": "stdout",
     "output_type": "stream",
     "text": [
      "[1, 10, 3, 4]\n"
     ]
    }
   ],
   "source": [
    "# Changing an Element\n",
    "numbers = [1, 2, 3, 4]\n",
    "numbers[1] = 10  \n",
    "print(numbers)  # [1, 10, 3, 4]\n"
   ]
  },
  {
   "cell_type": "code",
   "execution_count": 5,
   "metadata": {},
   "outputs": [
    {
     "name": "stdout",
     "output_type": "stream",
     "text": [
      "[1, 10, 100, 3, 4, 5, 6, 7, 8]\n"
     ]
    }
   ],
   "source": [
    "# Adding Elements\n",
    "# Using append() (adds element at the end)\n",
    "numbers.append(5)\n",
    "\n",
    "# Using insert() (adds element at a specific index)\n",
    "numbers.insert(2, 100)\n",
    "\n",
    "# Using extend() (adds multiple elements)\n",
    "numbers.extend([6, 7, 8])\n",
    "\n",
    "print(numbers)  # [1, 10, 100, 3, 4, 5, 6, 7, 8]\n"
   ]
  },
  {
   "cell_type": "code",
   "execution_count": 8,
   "metadata": {},
   "outputs": [
    {
     "name": "stdout",
     "output_type": "stream",
     "text": [
      "1\n",
      "[]\n"
     ]
    }
   ],
   "source": [
    "# Removing elements\n",
    "numbers = [1, 2, 3, 4, 5, 6]\n",
    "\n",
    "# Using remove() (removes first occurrence of a value)\n",
    "numbers.remove(3)  \n",
    "\n",
    "# Using pop() (removes element at an index, returns it)\n",
    "popped = numbers.pop(0)  # Removes element at index 2\n",
    "print(popped)\n",
    "# Using del keyword\n",
    "del numbers[1]  # Deletes the element at index 1\n",
    "\n",
    "# Using clear() (removes all elements)\n",
    "numbers.clear()\n",
    "\n",
    "print(numbers)  # []\n"
   ]
  },
  {
   "cell_type": "code",
   "execution_count": null,
   "metadata": {},
   "outputs": [
    {
     "name": "stdout",
     "output_type": "stream",
     "text": [
      "apple\n",
      "banana\n",
      "cherry\n"
     ]
    }
   ],
   "source": [
    "fruits = [\"apple\", \"banana\", \"cherry\"]\n",
    "# for-each loop\n",
    "for x in fruits:\n",
    "    print(x)\n"
   ]
  },
  {
   "cell_type": "code",
   "execution_count": null,
   "metadata": {},
   "outputs": [
    {
     "name": "stdout",
     "output_type": "stream",
     "text": [
      "0 apple\n",
      "1 banana\n",
      "2 cherry\n"
     ]
    }
   ],
   "source": [
    "for index, fruit in enumerate(fruits):\n",
    "    print(index, fruit)\n",
    "    \n",
    "# enumerate(), which is a built-in Python function that allows you to iterate over a sequence while keeping track of the index of each item.\n"
   ]
  },
  {
   "cell_type": "code",
   "execution_count": null,
   "metadata": {},
   "outputs": [
    {
     "name": "stdout",
     "output_type": "stream",
     "text": [
      "[1, 4, 9, 16, 25]\n",
      "[0, 2, 4, 6, 8]\n"
     ]
    }
   ],
   "source": [
    "# Creating a list with squares of numbers 1 to 5\n",
    "squares = [x**2 for x in range(1, 6)]\n",
    "print(squares)  # [1, 4, 9, 16, 25]\n",
    "                                            #  this is List comprehension \n",
    "# Filtering even numbers from a list\n",
    "even_numbers = [x for x in range(10) if x % 2 == 0]\n",
    "\n",
    "print(even_numbers)  # [0, 2, 4, 6, 8]\n"
   ]
  },
  {
   "cell_type": "code",
   "execution_count": 14,
   "metadata": {},
   "outputs": [
    {
     "name": "stdout",
     "output_type": "stream",
     "text": [
      "2\n",
      "[1, 1, 3, 4, 5, 9]\n",
      "[9, 5, 4, 3, 1, 1]\n"
     ]
    }
   ],
   "source": [
    "numbers = [3, 1, 4, 1, 5, 9]\n",
    "\n",
    "print(numbers.count(1))  # 2 (count occurrences of 1)\n",
    "\n",
    "numbers.sort()\n",
    "print(numbers)  # [1, 1, 3, 4, 5, 9]\n",
    "\n",
    "numbers.reverse()\n",
    "print(numbers)  # [9, 5, 4, 3, 1, 1]\n"
   ]
  },
  {
   "cell_type": "code",
   "execution_count": null,
   "metadata": {},
   "outputs": [
    {
     "name": "stdout",
     "output_type": "stream",
     "text": [
      "6\n"
     ]
    }
   ],
   "source": [
    "matrix = [\n",
    "    [1, 2, 3],\n",
    "    [4, 5, 6],\n",
    "    [7, 8, 9]\n",
    "]\n",
    "\n",
    "print(matrix[1][2])  # \n"
   ]
  },
  {
   "cell_type": "code",
   "execution_count": 16,
   "metadata": {},
   "outputs": [
    {
     "name": "stdout",
     "output_type": "stream",
     "text": [
      "1 2 3 \n",
      "4 5 6 \n",
      "7 8 9 \n"
     ]
    }
   ],
   "source": [
    "for row in matrix:\n",
    "    for element in row:\n",
    "        print(element, end=\" \")\n",
    "    print()\n"
   ]
  },
  {
   "cell_type": "code",
   "execution_count": null,
   "metadata": {},
   "outputs": [
    {
     "name": "stdout",
     "output_type": "stream",
     "text": [
      "True\n",
      "[100, 2, 3]\n"
     ]
    }
   ],
   "source": [
    "# Direct Assignment ( Creates a Reference, Not a Copy)\n",
    "list1 = [1, 2, 3]\n",
    "list2 = list1  # Both list1 and list2 refer to the same list in memory\n",
    "print(list2 is list1) \n",
    "# checking the same memory location\n",
    "# pointing the same memory location in memory\n",
    "\n",
    "list2[0] = 100  # Modifying list2 also changes list1\n",
    "print(list1)  # Output: [100, 2, 3]\n"
   ]
  },
  {
   "cell_type": "code",
   "execution_count": null,
   "metadata": {},
   "outputs": [
    {
     "name": "stdout",
     "output_type": "stream",
     "text": [
      "[1, 2, 3]\n"
     ]
    }
   ],
   "source": [
    "list1 = [1, 2, 3]\n",
    "list2 = list1.copy()  # Creates a new independent list\n",
    "\n",
    "list2[0] = 100  # Modifying list2 does not affect list1\n",
    "print(list1)  # Output: [1, 2, 3]\n",
    "#   but it fails in nested list because in nested list only outer list gets copied , inner list is referenced so if we change in list 1 then it\n",
    "# show in list 2 also\n"
   ]
  },
  {
   "cell_type": "code",
   "execution_count": 19,
   "metadata": {},
   "outputs": [
    {
     "name": "stdout",
     "output_type": "stream",
     "text": [
      "[[100, 2], [3, 4]]\n"
     ]
    }
   ],
   "source": [
    "list1 = [[1, 2], [3, 4]]\n",
    "list2 = list1.copy()\n",
    "\n",
    "list2[0][0] = 100  # Modifying list2 also changes list1\n",
    "print(list1)  # Output: [[100, 2], [3, 4]]\n"
   ]
  },
  {
   "cell_type": "code",
   "execution_count": 20,
   "metadata": {},
   "outputs": [
    {
     "name": "stdout",
     "output_type": "stream",
     "text": [
      "[1, 2, 3]\n"
     ]
    }
   ],
   "source": [
    "#  using slicing \n",
    "list1 = [1, 2, 3]\n",
    "list2 = list1[:]  # Creates a new list with the same elements\n",
    "\n",
    "list2[0] = 100\n",
    "print(list1)  # Output: [1, 2, 3]\n",
    "\n",
    "#  it is same as copy\n"
   ]
  },
  {
   "cell_type": "code",
   "execution_count": null,
   "metadata": {},
   "outputs": [
    {
     "name": "stdout",
     "output_type": "stream",
     "text": [
      "[[1, 2], [3, 4]]\n"
     ]
    }
   ],
   "source": [
    "# Deepcopy\n",
    "\n",
    "import copy\n",
    "\n",
    "nested_list = [[1, 2], [3, 4]]\n",
    "deep_copied_list = copy.deepcopy(nested_list)  # Creates a fully independent copy\n",
    "\n",
    "deep_copied_list[0][0] = 100  # Modifying deep_copied_list does NOT affect nested_list\n",
    "print(nested_list)  # Output: [[1, 2], [3, 4]]\n",
    "\n",
    "\n",
    "# copy.deepcopy() is a function provided by the copy module"
   ]
  }
 ],
 "metadata": {
  "kernelspec": {
   "display_name": "Python 3",
   "language": "python",
   "name": "python3"
  },
  "language_info": {
   "codemirror_mode": {
    "name": "ipython",
    "version": 3
   },
   "file_extension": ".py",
   "mimetype": "text/x-python",
   "name": "python",
   "nbconvert_exporter": "python",
   "pygments_lexer": "ipython3",
   "version": "3.10.1"
  }
 },
 "nbformat": 4,
 "nbformat_minor": 2
}
