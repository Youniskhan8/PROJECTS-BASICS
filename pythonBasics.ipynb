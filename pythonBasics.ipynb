{
 "cells": [
  {
   "cell_type": "code",
   "execution_count": 1,
   "metadata": {},
   "outputs": [],
   "source": [
    "x = 10        # Integer\n",
    "y = 3.14      # Float\n",
    "name = \"John\" # String\n",
    "is_active = True  # Boolean\n",
    "fruits = [\"Apple\", \"Mango\", \"Banana\"] # List\n",
    "person = {\"name\": \"Alice\", \"age\": 25} # Dictionary\n"
   ]
  },
  {
   "cell_type": "code",
   "execution_count": 2,
   "metadata": {},
   "outputs": [
    {
     "name": "stdout",
     "output_type": "stream",
     "text": [
      "15\n",
      "True\n",
      "5\n"
     ]
    }
   ],
   "source": [
    "x = 10\n",
    "y = 5\n",
    "print(x + y)  # Addition (15)\n",
    "print(x > y)  # True\n",
    "print(x and y) # 5 (Truthy value)\n"
   ]
  },
  {
   "cell_type": "code",
   "execution_count": 3,
   "metadata": {},
   "outputs": [
    {
     "name": "stdout",
     "output_type": "stream",
     "text": [
      "Positive\n"
     ]
    }
   ],
   "source": [
    "num = 10\n",
    "if num > 0:\n",
    "    print(\"Positive\")\n",
    "elif num == 0:\n",
    "    print(\"Zero\")\n",
    "else:\n",
    "    print(\"Negative\")\n"
   ]
  },
  {
   "cell_type": "code",
   "execution_count": 4,
   "metadata": {},
   "outputs": [
    {
     "name": "stdout",
     "output_type": "stream",
     "text": [
      "1\n",
      "2\n",
      "3\n",
      "4\n",
      "5\n"
     ]
    }
   ],
   "source": [
    "for i in range(1, 6):\n",
    "    print(i)\n"
   ]
  },
  {
   "cell_type": "code",
   "execution_count": 5,
   "metadata": {},
   "outputs": [
    {
     "name": "stdout",
     "output_type": "stream",
     "text": [
      "0\n",
      "1\n",
      "2\n"
     ]
    }
   ],
   "source": [
    "for i in range(5):\n",
    "    if i == 3:\n",
    "        break  # Stops at 3\n",
    "    print(i)\n",
    "\n"
   ]
  },
  {
   "cell_type": "code",
   "execution_count": 6,
   "metadata": {},
   "outputs": [
    {
     "name": "stdout",
     "output_type": "stream",
     "text": [
      "1\n",
      "3\n",
      "5\n",
      "7\n",
      "9\n"
     ]
    }
   ],
   "source": [
    "for num in range(1, 11):  # Loop from 1 to 10\n",
    "    if num % 2 == 0:  # Check if the number is even\n",
    "        continue  # Skip the rest of this iteration\n",
    "    print(num)  # Only prints odd numbers\n"
   ]
  },
  {
   "cell_type": "code",
   "execution_count": null,
   "metadata": {},
   "outputs": [
    {
     "name": "stdout",
     "output_type": "stream",
     "text": [
      "0\n",
      "1\n",
      "3\n",
      "4\n"
     ]
    }
   ],
   "source": [
    "for i in range(5):\n",
    "    if i == 2:\n",
    "        pass  # Placeholder, does nothing for i == 2 \n",
    "    else:\n",
    "        print(i)\n"
   ]
  },
  {
   "cell_type": "code",
   "execution_count": 8,
   "metadata": {},
   "outputs": [
    {
     "name": "stdout",
     "output_type": "stream",
     "text": [
      "This will still run!\n"
     ]
    }
   ],
   "source": [
    "def my_function():\n",
    "    pass  # Placeholder for future implementation\n",
    "\n",
    "print(\"This will still run!\")\n"
   ]
  },
  {
   "cell_type": "code",
   "execution_count": 9,
   "metadata": {},
   "outputs": [
    {
     "name": "stdout",
     "output_type": "stream",
     "text": [
      "Hello, Alice\n"
     ]
    }
   ],
   "source": [
    "def greet(name):\n",
    "    return \"Hello, \" + name\n",
    "\n",
    "print(greet(\"Alice\"))\n"
   ]
  },
  {
   "cell_type": "code",
   "execution_count": null,
   "metadata": {},
   "outputs": [
    {
     "ename": "TypeError",
     "evalue": "<lambda>() takes 1 positional argument but 2 were given",
     "output_type": "error",
     "traceback": [
      "\u001b[1;31m---------------------------------------------------------------------------\u001b[0m",
      "\u001b[1;31mTypeError\u001b[0m                                 Traceback (most recent call last)",
      "Cell \u001b[1;32mIn[5], line 2\u001b[0m\n\u001b[0;32m      1\u001b[0m square \u001b[38;5;241m=\u001b[39m \u001b[38;5;28;01mlambda\u001b[39;00m x: x \u001b[38;5;241m*\u001b[39m x\n\u001b[1;32m----> 2\u001b[0m \u001b[38;5;28mprint\u001b[39m(\u001b[43msquare\u001b[49m\u001b[43m(\u001b[49m\u001b[38;5;241;43m5\u001b[39;49m\u001b[43m,\u001b[49m\u001b[38;5;241;43m6\u001b[39;49m\u001b[43m)\u001b[49m)  \u001b[38;5;66;03m# Output: 25\u001b[39;00m\n\u001b[0;32m      3\u001b[0m \u001b[38;5;66;03m# lambda function (also known as an anonymous function) is a small, single-expression function that doesn't require a def statement.\u001b[39;00m\n\u001b[0;32m      4\u001b[0m \u001b[38;5;66;03m# lambda - Keyword to define an anonymous function.\u001b[39;00m\n\u001b[0;32m      5\u001b[0m \n\u001b[1;32m   (...)\u001b[0m\n\u001b[0;32m      8\u001b[0m \u001b[38;5;66;03m# expression - The operation performed on the input, which returns a value.\u001b[39;00m\n\u001b[0;32m      9\u001b[0m \u001b[38;5;66;03m# lambda arguments: expression\u001b[39;00m\n",
      "\u001b[1;31mTypeError\u001b[0m: <lambda>() takes 1 positional argument but 2 were given"
     ]
    }
   ],
   "source": [
    "square = lambda x: x * x\n",
    "print(square(5))  # Output: 25\n",
    "# lambda function (also known as an anonymous function) is a small, single-expression function that doesn't require a def statement.\n",
    "# lambda - Keyword to define an anonymous function.\n",
    "\n",
    "# arguments - Input(s) to the function.\n",
    "\n",
    "# expression - The operation performed on the input, which returns a value.\n",
    "# lambda arguments: expression\n"
   ]
  }
 ],
 "metadata": {
  "kernelspec": {
   "display_name": "Python 3",
   "language": "python",
   "name": "python3"
  },
  "language_info": {
   "codemirror_mode": {
    "name": "ipython",
    "version": 3
   },
   "file_extension": ".py",
   "mimetype": "text/x-python",
   "name": "python",
   "nbconvert_exporter": "python",
   "pygments_lexer": "ipython3",
   "version": "3.10.1"
  }
 },
 "nbformat": 4,
 "nbformat_minor": 2
}
