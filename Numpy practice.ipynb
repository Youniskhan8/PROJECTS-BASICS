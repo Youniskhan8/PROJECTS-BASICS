{
 "cells": [
  {
   "cell_type": "code",
   "execution_count": 1,
   "metadata": {},
   "outputs": [],
   "source": [
    "import numpy as np\n"
   ]
  },
  {
   "cell_type": "code",
   "execution_count": null,
   "metadata": {},
   "outputs": [
    {
     "name": "stdout",
     "output_type": "stream",
     "text": [
      "[1 2 3 4 5]\n"
     ]
    }
   ],
   "source": [
    "# Creating a 1D Array\n",
    "arr = np.array([1, 2, 3, 4, 5])\n",
    "print(arr)\n"
   ]
  },
  {
   "cell_type": "code",
   "execution_count": 3,
   "metadata": {},
   "outputs": [
    {
     "name": "stdout",
     "output_type": "stream",
     "text": [
      "[[1 2 3]\n",
      " [4 5 6]]\n"
     ]
    }
   ],
   "source": [
    "# creating 2d array\n",
    "arr2d = np.array([[1, 2, 3], [4, 5, 6]])\n",
    "print(arr2d)\n"
   ]
  },
  {
   "cell_type": "code",
   "execution_count": 4,
   "metadata": {},
   "outputs": [
    {
     "name": "stdout",
     "output_type": "stream",
     "text": [
      "[[[1 2]\n",
      "  [3 4]]\n",
      "\n",
      " [[5 6]\n",
      "  [7 8]]]\n"
     ]
    }
   ],
   "source": [
    "arr3d = np.array([[[1, 2], [3, 4]], [[5, 6], [7, 8]]])\n",
    "print(arr3d)\n"
   ]
  },
  {
   "cell_type": "code",
   "execution_count": null,
   "metadata": {},
   "outputs": [
    {
     "name": "stdout",
     "output_type": "stream",
     "text": [
      "[[0. 0. 0.]\n",
      " [0. 0. 0.]]\n",
      "[[1. 1. 1.]\n",
      " [1. 1. 1.]\n",
      " [1. 1. 1.]]\n",
      "[[99 99]\n",
      " [99 99]]\n",
      "[[1. 0. 0.]\n",
      " [0. 1. 0.]\n",
      " [0. 0. 1.]]\n"
     ]
    }
   ],
   "source": [
    "zeros = np.zeros((2, 3))  # 2 rows, 3 columns of zeros\n",
    "ones = np.ones((3, 3))    # 3x3 array of ones\n",
    "full_array = np.full((2, 2), 99)  # Filled with 99\n",
    "identity_matrix = np.eye(3)  # 3x3 identity matrix\n",
    "\n",
    "print(zeros)\n",
    "print(ones)\n",
    "print(full_array)\n",
    "print(identity_matrix)\n"
   ]
  },
  {
   "cell_type": "code",
   "execution_count": null,
   "metadata": {},
   "outputs": [],
   "source": [
    "# Generating Sequences & Random Numbers"
   ]
  },
  {
   "cell_type": "code",
   "execution_count": 8,
   "metadata": {},
   "outputs": [
    {
     "name": "stdout",
     "output_type": "stream",
     "text": [
      "[1 3 5 7 9]\n"
     ]
    }
   ],
   "source": [
    "# Using arange()\n",
    "arr = np.arange(1, 10, 2)  # Start=1, Stop=10, Step=2\n",
    "print(arr)\n"
   ]
  },
  {
   "cell_type": "code",
   "execution_count": null,
   "metadata": {},
   "outputs": [
    {
     "name": "stdout",
     "output_type": "stream",
     "text": [
      "[0.         0.55555556 1.11111111 1.66666667 2.22222222 2.77777778\n",
      " 3.33333333 3.88888889 4.44444444 5.        ]\n"
     ]
    }
   ],
   "source": [
    "# Using linspace()\n",
    "arr = np.linspace(0, 5, 10)  # 10 values between 0 and 5\n",
    "print(arr)\n"
   ]
  },
  {
   "cell_type": "code",
   "execution_count": null,
   "metadata": {},
   "outputs": [
    {
     "name": "stdout",
     "output_type": "stream",
     "text": [
      "[[0.18263471 0.91194003 0.07791768]\n",
      " [0.23631088 0.8683767  0.79879261]\n",
      " [0.62863432 0.5339857  0.47761658]]\n",
      "[[7 7]\n",
      " [4 7]]\n"
     ]
    }
   ],
   "source": [
    "# Random Number Generation\n",
    "rand_array = np.random.rand(3, 3)  # 3x3 array with random values\n",
    "rand_ints = np.random.randint(1, 10, (2, 2))  # 2x2 array of random integers (1-10) \n",
    "# np.random.rand() – Generates Random Floating-Point Numbers\n",
    "# np.random.randint() – Generates Random Integers\n",
    "\n",
    "print(rand_array)\n",
    "print(rand_ints)\n"
   ]
  },
  {
   "cell_type": "code",
   "execution_count": null,
   "metadata": {},
   "outputs": [
    {
     "name": "stdout",
     "output_type": "stream",
     "text": [
      "(2, 3)\n",
      "6\n",
      "int64\n",
      "2\n"
     ]
    }
   ],
   "source": [
    "# Array Properties\n",
    "arr = np.array([[1, 2, 3], [4, 5, 6]])\n",
    "\n",
    "print(arr.shape)  # (2,3) → (rows, columns)\n",
    "print(arr.size)   # 6 (total elements)\n",
    "print(arr.dtype)  # int32 (data type of elements)\n",
    "print(arr.ndim)   # 2 (number of dimensions)\n"
   ]
  },
  {
   "cell_type": "code",
   "execution_count": 15,
   "metadata": {},
   "outputs": [
    {
     "name": "stdout",
     "output_type": "stream",
     "text": [
      "[1 2 3 4 5 6 7 8 9]\n",
      "[[1 2 3]\n",
      " [4 5 6]\n",
      " [7 8 9]]\n",
      "[1 2 3 4 5 6 7 8 9]\n"
     ]
    }
   ],
   "source": [
    "# Reshaping & Flattening Arrays\n",
    "arr = np.arange(1, 10)\n",
    "print(arr)\n",
    "reshaped = arr.reshape(3, 3)  # Convert to 3x3 matrix\n",
    "flattened = reshaped.flatten()  # Convert back to 1D\n",
    "\n",
    "print(reshaped)\n",
    "print(flattened)\n"
   ]
  },
  {
   "cell_type": "code",
   "execution_count": 16,
   "metadata": {},
   "outputs": [
    {
     "name": "stdout",
     "output_type": "stream",
     "text": [
      "20\n"
     ]
    }
   ],
   "source": [
    "# indexing\n",
    "arr = np.array([10, 20, 30, 40, 50])\n",
    "print(arr[1])  # 20\n"
   ]
  },
  {
   "cell_type": "code",
   "execution_count": 17,
   "metadata": {},
   "outputs": [
    {
     "name": "stdout",
     "output_type": "stream",
     "text": [
      "[20 30 40]\n",
      "[10 20 30]\n",
      "[40 50]\n"
     ]
    }
   ],
   "source": [
    "# slicing\n",
    "print(arr[1:4])  # [20, 30, 40]\n",
    "print(arr[:3])   # [10, 20, 30]\n",
    "print(arr[-2:])  # [40, 50]\n"
   ]
  },
  {
   "cell_type": "code",
   "execution_count": 18,
   "metadata": {},
   "outputs": [
    {
     "name": "stdout",
     "output_type": "stream",
     "text": [
      "2\n",
      "[2 5]\n"
     ]
    }
   ],
   "source": [
    "# indexing in 2d array\n",
    "arr = np.array([[1, 2, 3], [4, 5, 6]])\n",
    "\n",
    "print(arr[0, 1])  # Element at row=0, column=1 → 2\n",
    "print(arr[:, 1])  # Second column → [2, 5]\n"
   ]
  },
  {
   "cell_type": "code",
   "execution_count": 19,
   "metadata": {},
   "outputs": [
    {
     "name": "stdout",
     "output_type": "stream",
     "text": [
      "[5 7 9]\n",
      "[-3 -3 -3]\n",
      "[ 4 10 18]\n",
      "[0.25 0.4  0.5 ]\n"
     ]
    }
   ],
   "source": [
    "# Mathematical operation\n",
    "arr1 = np.array([1, 2, 3])\n",
    "arr2 = np.array([4, 5, 6])\n",
    "\n",
    "print(arr1 + arr2)  # [5 7 9]\n",
    "print(arr1 - arr2)  # [-3 -3 -3]\n",
    "print(arr1 * arr2)  # [4 10 18]\n",
    "print(arr1 / arr2)  # [0.25 0.4 0.5]\n"
   ]
  },
  {
   "cell_type": "code",
   "execution_count": null,
   "metadata": {},
   "outputs": [
    {
     "name": "stdout",
     "output_type": "stream",
     "text": [
      "[1. 2. 3. 4.]\n",
      "[2.71828183e+00 5.45981500e+01 8.10308393e+03 8.88611052e+06]\n",
      "[0.         1.38629436 2.19722458 2.77258872]\n",
      "[ 0.84147098 -0.7568025   0.41211849 -0.28790332]\n"
     ]
    }
   ],
   "source": [
    "# Universal Functions (ufuncs)\n",
    "arr = np.array([1, 4, 9, 16])\n",
    "\n",
    "print(np.sqrt(arr))  # Square root\n",
    "print(np.exp(arr))   # Exponential \n",
    "print(np.log(arr))   # Logarithm\n",
    "print(np.sin(arr))   # Sine function\n"
   ]
  },
  {
   "cell_type": "code",
   "execution_count": 21,
   "metadata": {},
   "outputs": [
    {
     "name": "stdout",
     "output_type": "stream",
     "text": [
      "100\n",
      "25.0\n",
      "10\n",
      "40\n",
      "11.180339887498949\n"
     ]
    }
   ],
   "source": [
    "# Statistic\n",
    "arr = np.array([10, 20, 30, 40])\n",
    "\n",
    "print(np.sum(arr))    \n",
    "print(np.mean(arr))    \n",
    "print(np.min(arr))     \n",
    "print(np.max(arr))     \n",
    "print(np.std(arr))     \n"
   ]
  },
  {
   "cell_type": "code",
   "execution_count": 22,
   "metadata": {},
   "outputs": [
    {
     "name": "stdout",
     "output_type": "stream",
     "text": [
      "[[ 6  8]\n",
      " [10 12]]\n",
      "[[ 5 12]\n",
      " [21 32]]\n",
      "[[19 22]\n",
      " [43 50]]\n",
      "[[19 22]\n",
      " [43 50]]\n",
      "[[-2.   1. ]\n",
      " [ 1.5 -0.5]]\n",
      "-2.0000000000000004\n"
     ]
    }
   ],
   "source": [
    "# matrix operation\n",
    "A = np.array([[1, 2], [3, 4]])\n",
    "B = np.array([[5, 6], [7, 8]])\n",
    "\n",
    "print(A + B)  # Matrix addition\n",
    "print(A * B)  # Element-wise multiplication\n",
    "print(A @ B)  # Matrix multiplication\n",
    "print(np.dot(A, B))  # Alternative for matrix multiplication\n",
    "print(np.linalg.inv(A))  # Inverse of matrix A\n",
    "print(np.linalg.det(A))  # Determinant of A\n"
   ]
  },
  {
   "cell_type": "code",
   "execution_count": 23,
   "metadata": {},
   "outputs": [
    {
     "name": "stdout",
     "output_type": "stream",
     "text": [
      "[[11 12 13]\n",
      " [14 15 16]]\n"
     ]
    }
   ],
   "source": [
    "#  Broadcasting in numpy\n",
    "arr = np.array([[1, 2, 3], [4, 5, 6]])\n",
    "scalar = 10\n",
    "\n",
    "print(arr + scalar)  # Broadcasting scalar addition\n"
   ]
  },
  {
   "cell_type": "code",
   "execution_count": null,
   "metadata": {},
   "outputs": [
    {
     "name": "stdout",
     "output_type": "stream",
     "text": [
      "[1 2 3 4 5]\n"
     ]
    }
   ],
   "source": [
    "# saving and loading in numpy\n",
    "arr = np.array([1, 2, 3, 4, 5])\n",
    "\n",
    "np.save(\"data.npy\", arr)  # Save as .npy file\n",
    "loaded_arr = np.load(\"data.npy\")  # Load the file\n",
    "print(loaded_arr)\n",
    "# it saves as non- readable format\n"
   ]
  },
  {
   "cell_type": "code",
   "execution_count": null,
   "metadata": {},
   "outputs": [
    {
     "name": "stdout",
     "output_type": "stream",
     "text": [
      "[1. 2. 3. 4. 5.]\n"
     ]
    }
   ],
   "source": [
    "np.savetxt(\"data.txt\", arr, fmt=\"%d\")  # Save as text   and %d indicates it is integer (saved as integer)\n",
    "loaded_txt_arr = np.loadtxt(\"data.txt\")  # Load the text file\n",
    "print(loaded_txt_arr)\n"
   ]
  },
  {
   "cell_type": "code",
   "execution_count": null,
   "metadata": {},
   "outputs": [],
   "source": []
  }
 ],
 "metadata": {
  "kernelspec": {
   "display_name": "Python 3",
   "language": "python",
   "name": "python3"
  },
  "language_info": {
   "codemirror_mode": {
    "name": "ipython",
    "version": 3
   },
   "file_extension": ".py",
   "mimetype": "text/x-python",
   "name": "python",
   "nbconvert_exporter": "python",
   "pygments_lexer": "ipython3",
   "version": "3.10.1"
  }
 },
 "nbformat": 4,
 "nbformat_minor": 2
}
